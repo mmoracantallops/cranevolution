{
 "cells": [
  {
   "cell_type": "code",
   "execution_count": 1,
   "metadata": {},
   "outputs": [
    {
     "data": {
      "text/html": [
       "<style> body { font-family: \"Times New Roman\"} </style>   \n"
      ],
      "text/plain": [
       "<IPython.core.display.HTML object>"
      ]
     },
     "metadata": {},
     "output_type": "display_data"
    }
   ],
   "source": [
    "%%html\n",
    "<style> body { font-family: \"Times New Roman\"} </style>   "
   ]
  },
  {
   "cell_type": "code",
   "execution_count": 2,
   "metadata": {
    "ExecuteTime": {
     "end_time": "2020-02-19T23:02:21.742657Z",
     "start_time": "2020-02-19T23:02:18.131163Z"
    }
   },
   "outputs": [
    {
     "name": "stderr",
     "output_type": "stream",
     "text": [
      "/home/mmora/anaconda3/lib/python3.7/site-packages/dask/config.py:131: YAMLLoadWarning: calling yaml.load() without Loader=... is deprecated, as the default Loader is unsafe. Please read https://msg.pyyaml.org/load for full details.\n",
      "  data = yaml.load(f.read()) or {}\n",
      "/home/mmora/anaconda3/lib/python3.7/site-packages/distributed/config.py:20: YAMLLoadWarning: calling yaml.load() without Loader=... is deprecated, as the default Loader is unsafe. Please read https://msg.pyyaml.org/load for full details.\n",
      "  defaults = yaml.load(f)\n"
     ]
    }
   ],
   "source": [
    "import ast\n",
    "import dask\n",
    "import dask.dataframe as dd\n",
    "import pandas as pd\n",
    "from dask.distributed import Client"
   ]
  },
  {
   "cell_type": "code",
   "execution_count": 4,
   "metadata": {
    "ExecuteTime": {
     "end_time": "2020-02-19T23:02:27.277171Z",
     "start_time": "2020-02-19T23:02:23.250022Z"
    }
   },
   "outputs": [
    {
     "data": {
      "text/html": [
       "<table style=\"border: 2px solid white;\">\n",
       "<tr>\n",
       "<td style=\"vertical-align: top; border: 0px solid white\">\n",
       "<h3>Client</h3>\n",
       "<ul>\n",
       "  <li><b>Scheduler: </b>inproc://192.168.0.15/11725/1\n",
       "</ul>\n",
       "</td>\n",
       "<td style=\"vertical-align: top; border: 0px solid white\">\n",
       "<h3>Cluster</h3>\n",
       "<ul>\n",
       "  <li><b>Workers: </b>1</li>\n",
       "  <li><b>Cores: </b>12</li>\n",
       "  <li><b>Memory: </b>8.00 GB</li>\n",
       "</ul>\n",
       "</td>\n",
       "</tr>\n",
       "</table>"
      ],
      "text/plain": [
       "<Client: scheduler='inproc://192.168.0.15/11725/1' processes=1 cores=12>"
      ]
     },
     "execution_count": 4,
     "metadata": {},
     "output_type": "execute_result"
    }
   ],
   "source": [
    "#client.close()\n",
    "client = Client(processes=False, memory_limit='8GB')\n",
    "client"
   ]
  },
  {
   "cell_type": "markdown",
   "metadata": {},
   "source": [
    "# 1. Carga de datos"
   ]
  },
  {
   "cell_type": "code",
   "execution_count": 3,
   "metadata": {
    "ExecuteTime": {
     "end_time": "2020-02-19T23:02:23.248341Z",
     "start_time": "2020-02-19T23:02:21.748356Z"
    }
   },
   "outputs": [
    {
     "data": {
      "text/plain": [
       "(91321, 39)"
      ]
     },
     "execution_count": 3,
     "metadata": {},
     "output_type": "execute_result"
    }
   ],
   "source": [
    "df = pd.read_csv('DATA_CRAN/CRAN_DATA_20191231.csv', sep='|', low_memory=False)\n",
    "df.shape"
   ]
  },
  {
   "cell_type": "markdown",
   "metadata": {},
   "source": [
    "Elimina filas donde la fecha de publicación se nula"
   ]
  },
  {
   "cell_type": "code",
   "execution_count": 5,
   "metadata": {
    "ExecuteTime": {
     "end_time": "2020-02-19T23:02:32.309927Z",
     "start_time": "2020-02-19T23:02:31.987552Z"
    }
   },
   "outputs": [
    {
     "data": {
      "text/html": [
       "<div>\n",
       "<style scoped>\n",
       "    .dataframe tbody tr th:only-of-type {\n",
       "        vertical-align: middle;\n",
       "    }\n",
       "\n",
       "    .dataframe tbody tr th {\n",
       "        vertical-align: top;\n",
       "    }\n",
       "\n",
       "    .dataframe thead th {\n",
       "        text-align: right;\n",
       "    }\n",
       "</style>\n",
       "<table border=\"1\" class=\"dataframe\">\n",
       "  <thead>\n",
       "    <tr style=\"text-align: right;\">\n",
       "      <th></th>\n",
       "      <th></th>\n",
       "      <th>Author</th>\n",
       "      <th>Authors@R</th>\n",
       "      <th>BugReports</th>\n",
       "      <th>Date</th>\n",
       "      <th>Date/Publication</th>\n",
       "      <th>Depends</th>\n",
       "      <th>Description</th>\n",
       "      <th>Encoding</th>\n",
       "      <th>Imports</th>\n",
       "      <th>LazyData</th>\n",
       "      <th>...</th>\n",
       "      <th>date</th>\n",
       "      <th>releases</th>\n",
       "      <th>DatePublication</th>\n",
       "      <th>Month/Publication</th>\n",
       "      <th>Day/Publication</th>\n",
       "      <th>Year_Month/Publication</th>\n",
       "      <th>NumberOfImports</th>\n",
       "      <th>NumberOfDepends</th>\n",
       "      <th>NumberOfSuggests</th>\n",
       "      <th>NumberOfLinkingTo</th>\n",
       "    </tr>\n",
       "    <tr>\n",
       "      <th>Year/Publication</th>\n",
       "      <th>Package</th>\n",
       "      <th></th>\n",
       "      <th></th>\n",
       "      <th></th>\n",
       "      <th></th>\n",
       "      <th></th>\n",
       "      <th></th>\n",
       "      <th></th>\n",
       "      <th></th>\n",
       "      <th></th>\n",
       "      <th></th>\n",
       "      <th></th>\n",
       "      <th></th>\n",
       "      <th></th>\n",
       "      <th></th>\n",
       "      <th></th>\n",
       "      <th></th>\n",
       "      <th></th>\n",
       "      <th></th>\n",
       "      <th></th>\n",
       "      <th></th>\n",
       "      <th></th>\n",
       "    </tr>\n",
       "  </thead>\n",
       "  <tbody>\n",
       "    <tr>\n",
       "      <th rowspan=\"5\" valign=\"top\">2019</th>\n",
       "      <th>slurmR</th>\n",
       "      <td>George Vega Yon [aut, cre] (&lt;https://orcid.org...</td>\n",
       "      <td>c( person(\"George\", \"Vega Yon\", email = \"g.veg...</td>\n",
       "      <td>https://github.com/USCbiostats/slurmR/issues</td>\n",
       "      <td>NaN</td>\n",
       "      <td>2019-12-31 02:00:02 UTC</td>\n",
       "      <td>['R', 'parallel']</td>\n",
       "      <td>'Slurm', Simple Linux Utility for Resource Man...</td>\n",
       "      <td>UTF-8</td>\n",
       "      <td>['utils']</td>\n",
       "      <td>true</td>\n",
       "      <td>...</td>\n",
       "      <td>2019-12-31T01:00:02+00:00</td>\n",
       "      <td>[]</td>\n",
       "      <td>2019-12-31</td>\n",
       "      <td>12</td>\n",
       "      <td>31</td>\n",
       "      <td>2019-12</td>\n",
       "      <td>1</td>\n",
       "      <td>2</td>\n",
       "      <td>5</td>\n",
       "      <td>0</td>\n",
       "    </tr>\n",
       "    <tr>\n",
       "      <th>workflows</th>\n",
       "      <td>Davis Vaughan [aut, cre],\\nRStudio [cph]</td>\n",
       "      <td>\\nc(person(given = \"Davis\",\\nfamily = \"Vaughan...</td>\n",
       "      <td>https://github.com/tidymodels/workflows/issues</td>\n",
       "      <td>NaN</td>\n",
       "      <td>2019-12-30 14:00:02 UTC</td>\n",
       "      <td>['R']</td>\n",
       "      <td>Managing both a 'parsnip' model and a preproce...</td>\n",
       "      <td>UTF-8</td>\n",
       "      <td>['cli', 'ellipsis', 'generics', 'glue', 'hardh...</td>\n",
       "      <td>true</td>\n",
       "      <td>...</td>\n",
       "      <td>2019-12-30T13:00:02+00:00</td>\n",
       "      <td>[]</td>\n",
       "      <td>2019-12-30</td>\n",
       "      <td>12</td>\n",
       "      <td>30</td>\n",
       "      <td>2019-12</td>\n",
       "      <td>7</td>\n",
       "      <td>1</td>\n",
       "      <td>5</td>\n",
       "      <td>0</td>\n",
       "    </tr>\n",
       "    <tr>\n",
       "      <th>multilinguer</th>\n",
       "      <td>Chanyub Park [aut, cre] (&lt;https://orcid.org/00...</td>\n",
       "      <td>person(given = \"Chanyub\",\\nfamily = \"Park\",\\nr...</td>\n",
       "      <td>https://github.com/mrchypark/multilinguer/issues</td>\n",
       "      <td>NaN</td>\n",
       "      <td>2019-12-30 17:00:02 UTC</td>\n",
       "      <td>[]</td>\n",
       "      <td>Provides install functions of other languages\\...</td>\n",
       "      <td>UTF-8</td>\n",
       "      <td>['sys', 'fs', 'usethis', 'zip', 'askpass', 'xm...</td>\n",
       "      <td>true</td>\n",
       "      <td>...</td>\n",
       "      <td>2019-12-30T16:00:02+00:00</td>\n",
       "      <td>[]</td>\n",
       "      <td>2019-12-30</td>\n",
       "      <td>12</td>\n",
       "      <td>30</td>\n",
       "      <td>2019-12</td>\n",
       "      <td>8</td>\n",
       "      <td>0</td>\n",
       "      <td>0</td>\n",
       "      <td>0</td>\n",
       "    </tr>\n",
       "    <tr>\n",
       "      <th>sbw</th>\n",
       "      <td>Jose R. Zubizarreta [aut, cre],\\nYige Li [aut]...</td>\n",
       "      <td>c(person(\"Jose R.\", \"Zubizarreta\", role = c(\"a...</td>\n",
       "      <td>NaN</td>\n",
       "      <td>2019-12-06</td>\n",
       "      <td>2019-12-30 15:20:02 UTC</td>\n",
       "      <td>['R', 'Matrix', 'quadprog', 'slam']</td>\n",
       "      <td>Weights of minimum variance that approximately...</td>\n",
       "      <td>NaN</td>\n",
       "      <td>['MASS', 'spatstat']</td>\n",
       "      <td>NaN</td>\n",
       "      <td>...</td>\n",
       "      <td>2019-12-30T14:20:02+00:00</td>\n",
       "      <td>[]</td>\n",
       "      <td>2019-12-30</td>\n",
       "      <td>12</td>\n",
       "      <td>30</td>\n",
       "      <td>2019-12</td>\n",
       "      <td>2</td>\n",
       "      <td>4</td>\n",
       "      <td>2</td>\n",
       "      <td>0</td>\n",
       "    </tr>\n",
       "    <tr>\n",
       "      <th>uavRst</th>\n",
       "      <td>Chris Reudenbach [cre, aut],\\nHanna Meyer [aut...</td>\n",
       "      <td>c(person(\"Chris\", \"Reudenbach\", email = \"reude...</td>\n",
       "      <td>https://github.com/gisma/uavRst/issues/</td>\n",
       "      <td>2019-12-18</td>\n",
       "      <td>2019-12-30 14:50:03 UTC</td>\n",
       "      <td>['R']</td>\n",
       "      <td>Support the analysis of drone derived imagery ...</td>\n",
       "      <td>UTF-8</td>\n",
       "      <td>['raster', 'foreach']</td>\n",
       "      <td>NaN</td>\n",
       "      <td>...</td>\n",
       "      <td>2019-12-30T13:50:03+00:00</td>\n",
       "      <td>[]</td>\n",
       "      <td>2019-12-30</td>\n",
       "      <td>12</td>\n",
       "      <td>30</td>\n",
       "      <td>2019-12</td>\n",
       "      <td>2</td>\n",
       "      <td>1</td>\n",
       "      <td>36</td>\n",
       "      <td>1</td>\n",
       "    </tr>\n",
       "  </tbody>\n",
       "</table>\n",
       "<p>5 rows × 37 columns</p>\n",
       "</div>"
      ],
      "text/plain": [
       "                                                                          Author  \\\n",
       "Year/Publication Package                                                           \n",
       "2019             slurmR        George Vega Yon [aut, cre] (<https://orcid.org...   \n",
       "                 workflows              Davis Vaughan [aut, cre],\\nRStudio [cph]   \n",
       "                 multilinguer  Chanyub Park [aut, cre] (<https://orcid.org/00...   \n",
       "                 sbw           Jose R. Zubizarreta [aut, cre],\\nYige Li [aut]...   \n",
       "                 uavRst        Chris Reudenbach [cre, aut],\\nHanna Meyer [aut...   \n",
       "\n",
       "                                                                       Authors@R  \\\n",
       "Year/Publication Package                                                           \n",
       "2019             slurmR        c( person(\"George\", \"Vega Yon\", email = \"g.veg...   \n",
       "                 workflows     \\nc(person(given = \"Davis\",\\nfamily = \"Vaughan...   \n",
       "                 multilinguer  person(given = \"Chanyub\",\\nfamily = \"Park\",\\nr...   \n",
       "                 sbw           c(person(\"Jose R.\", \"Zubizarreta\", role = c(\"a...   \n",
       "                 uavRst        c(person(\"Chris\", \"Reudenbach\", email = \"reude...   \n",
       "\n",
       "                                                                     BugReports  \\\n",
       "Year/Publication Package                                                          \n",
       "2019             slurmR            https://github.com/USCbiostats/slurmR/issues   \n",
       "                 workflows       https://github.com/tidymodels/workflows/issues   \n",
       "                 multilinguer  https://github.com/mrchypark/multilinguer/issues   \n",
       "                 sbw                                                        NaN   \n",
       "                 uavRst                 https://github.com/gisma/uavRst/issues/   \n",
       "\n",
       "                                     Date         Date/Publication  \\\n",
       "Year/Publication Package                                             \n",
       "2019             slurmR               NaN  2019-12-31 02:00:02 UTC   \n",
       "                 workflows            NaN  2019-12-30 14:00:02 UTC   \n",
       "                 multilinguer         NaN  2019-12-30 17:00:02 UTC   \n",
       "                 sbw           2019-12-06  2019-12-30 15:20:02 UTC   \n",
       "                 uavRst        2019-12-18  2019-12-30 14:50:03 UTC   \n",
       "\n",
       "                                                           Depends  \\\n",
       "Year/Publication Package                                             \n",
       "2019             slurmR                          ['R', 'parallel']   \n",
       "                 workflows                                   ['R']   \n",
       "                 multilinguer                                   []   \n",
       "                 sbw           ['R', 'Matrix', 'quadprog', 'slam']   \n",
       "                 uavRst                                      ['R']   \n",
       "\n",
       "                                                                     Description  \\\n",
       "Year/Publication Package                                                           \n",
       "2019             slurmR        'Slurm', Simple Linux Utility for Resource Man...   \n",
       "                 workflows     Managing both a 'parsnip' model and a preproce...   \n",
       "                 multilinguer  Provides install functions of other languages\\...   \n",
       "                 sbw           Weights of minimum variance that approximately...   \n",
       "                 uavRst        Support the analysis of drone derived imagery ...   \n",
       "\n",
       "                              Encoding  \\\n",
       "Year/Publication Package                 \n",
       "2019             slurmR          UTF-8   \n",
       "                 workflows       UTF-8   \n",
       "                 multilinguer    UTF-8   \n",
       "                 sbw               NaN   \n",
       "                 uavRst          UTF-8   \n",
       "\n",
       "                                                                         Imports  \\\n",
       "Year/Publication Package                                                           \n",
       "2019             slurmR                                                ['utils']   \n",
       "                 workflows     ['cli', 'ellipsis', 'generics', 'glue', 'hardh...   \n",
       "                 multilinguer  ['sys', 'fs', 'usethis', 'zip', 'askpass', 'xm...   \n",
       "                 sbw                                        ['MASS', 'spatstat']   \n",
       "                 uavRst                                    ['raster', 'foreach']   \n",
       "\n",
       "                              LazyData        ...         \\\n",
       "Year/Publication Package                      ...          \n",
       "2019             slurmR           true        ...          \n",
       "                 workflows        true        ...          \n",
       "                 multilinguer     true        ...          \n",
       "                 sbw               NaN        ...          \n",
       "                 uavRst            NaN        ...          \n",
       "\n",
       "                                                    date releases  \\\n",
       "Year/Publication Package                                            \n",
       "2019             slurmR        2019-12-31T01:00:02+00:00       []   \n",
       "                 workflows     2019-12-30T13:00:02+00:00       []   \n",
       "                 multilinguer  2019-12-30T16:00:02+00:00       []   \n",
       "                 sbw           2019-12-30T14:20:02+00:00       []   \n",
       "                 uavRst        2019-12-30T13:50:03+00:00       []   \n",
       "\n",
       "                              DatePublication Month/Publication  \\\n",
       "Year/Publication Package                                          \n",
       "2019             slurmR            2019-12-31                12   \n",
       "                 workflows         2019-12-30                12   \n",
       "                 multilinguer      2019-12-30                12   \n",
       "                 sbw               2019-12-30                12   \n",
       "                 uavRst            2019-12-30                12   \n",
       "\n",
       "                              Day/Publication Year_Month/Publication  \\\n",
       "Year/Publication Package                                               \n",
       "2019             slurmR                    31                2019-12   \n",
       "                 workflows                 30                2019-12   \n",
       "                 multilinguer              30                2019-12   \n",
       "                 sbw                       30                2019-12   \n",
       "                 uavRst                    30                2019-12   \n",
       "\n",
       "                              NumberOfImports NumberOfDepends  \\\n",
       "Year/Publication Package                                        \n",
       "2019             slurmR                     1               2   \n",
       "                 workflows                  7               1   \n",
       "                 multilinguer               8               0   \n",
       "                 sbw                        2               4   \n",
       "                 uavRst                     2               1   \n",
       "\n",
       "                              NumberOfSuggests NumberOfLinkingTo  \n",
       "Year/Publication Package                                          \n",
       "2019             slurmR                      5                 0  \n",
       "                 workflows                   5                 0  \n",
       "                 multilinguer                0                 0  \n",
       "                 sbw                         2                 0  \n",
       "                 uavRst                     36                 1  \n",
       "\n",
       "[5 rows x 37 columns]"
      ]
     },
     "execution_count": 5,
     "metadata": {},
     "output_type": "execute_result"
    }
   ],
   "source": [
    "versionOfPackages = df.dropna(subset=['DatePublication']).copy()\n",
    "versionOfPackages.set_index([\"Year/Publication\", \"Package\"], inplace=True)\n",
    "versionOfPackages.sort_values('DatePublication', ascending=False, inplace=True)\n",
    "versionOfPackages.head()"
   ]
  },
  {
   "cell_type": "code",
   "execution_count": 6,
   "metadata": {
    "ExecuteTime": {
     "end_time": "2020-02-19T23:03:12.562986Z",
     "start_time": "2020-02-19T23:02:36.502979Z"
    }
   },
   "outputs": [
    {
     "data": {
      "text/plain": [
       "(43161, 39)"
      ]
     },
     "execution_count": 6,
     "metadata": {},
     "output_type": "execute_result"
    }
   ],
   "source": [
    "def last_version_package_by_year(df):\n",
    "    return df.iloc[[0]]\n",
    "\n",
    "# Agrupa por año y paquete para obtener la última versión de paquete públicada en ese año\n",
    "versionByYear = versionOfPackages.groupby(level=[0,1], group_keys=False).apply(last_version_package_by_year)\n",
    "versionByYear.reset_index(inplace=True)\n",
    "versionByYear.shape"
   ]
  },
  {
   "cell_type": "code",
   "execution_count": 7,
   "metadata": {
    "ExecuteTime": {
     "end_time": "2020-02-19T23:03:12.938285Z",
     "start_time": "2020-02-19T23:03:12.564077Z"
    }
   },
   "outputs": [
    {
     "data": {
      "text/html": [
       "<div>\n",
       "<style scoped>\n",
       "    .dataframe tbody tr th:only-of-type {\n",
       "        vertical-align: middle;\n",
       "    }\n",
       "\n",
       "    .dataframe tbody tr th {\n",
       "        vertical-align: top;\n",
       "    }\n",
       "\n",
       "    .dataframe thead th {\n",
       "        text-align: right;\n",
       "    }\n",
       "</style>\n",
       "<table border=\"1\" class=\"dataframe\">\n",
       "  <thead>\n",
       "    <tr style=\"text-align: right;\">\n",
       "      <th></th>\n",
       "      <th>Package</th>\n",
       "      <th>Version</th>\n",
       "      <th>Imports</th>\n",
       "      <th>Year/Publication</th>\n",
       "      <th>Year_Month/Publication</th>\n",
       "      <th>SizeImports</th>\n",
       "    </tr>\n",
       "  </thead>\n",
       "  <tbody>\n",
       "    <tr>\n",
       "      <th>0</th>\n",
       "      <td>leaps</td>\n",
       "      <td>NaN</td>\n",
       "      <td>[]</td>\n",
       "      <td>1997</td>\n",
       "      <td>1997-12</td>\n",
       "      <td>0</td>\n",
       "    </tr>\n",
       "    <tr>\n",
       "      <th>1</th>\n",
       "      <td>akima</td>\n",
       "      <td>0.2-3</td>\n",
       "      <td>[]</td>\n",
       "      <td>1998</td>\n",
       "      <td>1998-08</td>\n",
       "      <td>0</td>\n",
       "    </tr>\n",
       "    <tr>\n",
       "      <th>2</th>\n",
       "      <td>logspline</td>\n",
       "      <td>NaN</td>\n",
       "      <td>[]</td>\n",
       "      <td>1998</td>\n",
       "      <td>1998-11</td>\n",
       "      <td>0</td>\n",
       "    </tr>\n",
       "    <tr>\n",
       "      <th>3</th>\n",
       "      <td>mda</td>\n",
       "      <td>0.1-1</td>\n",
       "      <td>[]</td>\n",
       "      <td>1998</td>\n",
       "      <td>1998-04</td>\n",
       "      <td>0</td>\n",
       "    </tr>\n",
       "    <tr>\n",
       "      <th>4</th>\n",
       "      <td>oz</td>\n",
       "      <td>1.0-3</td>\n",
       "      <td>[]</td>\n",
       "      <td>1998</td>\n",
       "      <td>1998-02</td>\n",
       "      <td>0</td>\n",
       "    </tr>\n",
       "  </tbody>\n",
       "</table>\n",
       "</div>"
      ],
      "text/plain": [
       "     Package Version Imports  Year/Publication Year_Month/Publication  \\\n",
       "0      leaps     NaN      []              1997                1997-12   \n",
       "1      akima   0.2-3      []              1998                1998-08   \n",
       "2  logspline     NaN      []              1998                1998-11   \n",
       "3        mda   0.1-1      []              1998                1998-04   \n",
       "4         oz   1.0-3      []              1998                1998-02   \n",
       "\n",
       "   SizeImports  \n",
       "0            0  \n",
       "1            0  \n",
       "2            0  \n",
       "3            0  \n",
       "4            0  "
      ]
     },
     "execution_count": 7,
     "metadata": {},
     "output_type": "execute_result"
    }
   ],
   "source": [
    "df_T = versionByYear[['Package', 'Version', 'Imports', 'Year/Publication', 'Year_Month/Publication']].copy()\n",
    "df_T['Imports'] = df_T[\"Imports\"].apply(ast.literal_eval)\n",
    "df_T['SizeImports'] = df_T[\"Imports\"].str.len()\n",
    "df_T.head()"
   ]
  },
  {
   "cell_type": "markdown",
   "metadata": {},
   "source": [
    "Tenemos versiones de paquetes que no tienen paquetes importados, a continuación eliminamos estas filas"
   ]
  },
  {
   "cell_type": "code",
   "execution_count": 8,
   "metadata": {
    "ExecuteTime": {
     "end_time": "2020-02-19T23:03:12.944843Z",
     "start_time": "2020-02-19T23:03:12.939625Z"
    }
   },
   "outputs": [
    {
     "data": {
      "text/plain": [
       "(23753, 6)"
      ]
     },
     "execution_count": 8,
     "metadata": {},
     "output_type": "execute_result"
    }
   ],
   "source": [
    "df_T = df_T[(df_T['SizeImports'] != 0)]\n",
    "df_T.shape"
   ]
  },
  {
   "cell_type": "code",
   "execution_count": 9,
   "metadata": {
    "ExecuteTime": {
     "end_time": "2020-02-19T23:03:13.099607Z",
     "start_time": "2020-02-19T23:03:12.946115Z"
    }
   },
   "outputs": [
    {
     "data": {
      "text/html": [
       "<div>\n",
       "<style scoped>\n",
       "    .dataframe tbody tr th:only-of-type {\n",
       "        vertical-align: middle;\n",
       "    }\n",
       "\n",
       "    .dataframe tbody tr th {\n",
       "        vertical-align: top;\n",
       "    }\n",
       "\n",
       "    .dataframe thead th {\n",
       "        text-align: right;\n",
       "    }\n",
       "</style>\n",
       "<table border=\"1\" class=\"dataframe\">\n",
       "  <thead>\n",
       "    <tr style=\"text-align: right;\">\n",
       "      <th></th>\n",
       "      <th>Package</th>\n",
       "      <th>Version</th>\n",
       "      <th>Imports</th>\n",
       "      <th>Year/Publication</th>\n",
       "      <th>Year_Month/Publication</th>\n",
       "      <th>SizeImports</th>\n",
       "    </tr>\n",
       "  </thead>\n",
       "  <tbody>\n",
       "    <tr>\n",
       "      <th>553</th>\n",
       "      <td>Matrix</td>\n",
       "      <td>0.8-21</td>\n",
       "      <td>[graphics, stats, lattice, grid]</td>\n",
       "      <td>2004</td>\n",
       "      <td>2004-12</td>\n",
       "      <td>4</td>\n",
       "    </tr>\n",
       "    <tr>\n",
       "      <th>614</th>\n",
       "      <td>clue</td>\n",
       "      <td>0.1-0</td>\n",
       "      <td>[cluster]</td>\n",
       "      <td>2004</td>\n",
       "      <td>2004-12</td>\n",
       "      <td>1</td>\n",
       "    </tr>\n",
       "    <tr>\n",
       "      <th>634</th>\n",
       "      <td>e1071</td>\n",
       "      <td>1.5-5</td>\n",
       "      <td>[graphics, stats]</td>\n",
       "      <td>2004</td>\n",
       "      <td>2004-12</td>\n",
       "      <td>2</td>\n",
       "    </tr>\n",
       "    <tr>\n",
       "      <th>659</th>\n",
       "      <td>foreign</td>\n",
       "      <td>0.8-4</td>\n",
       "      <td>[stats, methods]</td>\n",
       "      <td>2004</td>\n",
       "      <td>2004-12</td>\n",
       "      <td>2</td>\n",
       "    </tr>\n",
       "    <tr>\n",
       "      <th>696</th>\n",
       "      <td>lattice</td>\n",
       "      <td>0.11-2</td>\n",
       "      <td>[grid, grDevices, graphics, stats]</td>\n",
       "      <td>2004</td>\n",
       "      <td>2004-12</td>\n",
       "      <td>4</td>\n",
       "    </tr>\n",
       "  </tbody>\n",
       "</table>\n",
       "</div>"
      ],
      "text/plain": [
       "     Package Version                             Imports  Year/Publication  \\\n",
       "553   Matrix  0.8-21    [graphics, stats, lattice, grid]              2004   \n",
       "614     clue   0.1-0                           [cluster]              2004   \n",
       "634    e1071   1.5-5                   [graphics, stats]              2004   \n",
       "659  foreign   0.8-4                    [stats, methods]              2004   \n",
       "696  lattice  0.11-2  [grid, grDevices, graphics, stats]              2004   \n",
       "\n",
       "    Year_Month/Publication  SizeImports  \n",
       "553                2004-12            4  \n",
       "614                2004-12            1  \n",
       "634                2004-12            2  \n",
       "659                2004-12            2  \n",
       "696                2004-12            4  "
      ]
     },
     "execution_count": 9,
     "metadata": {},
     "output_type": "execute_result"
    }
   ],
   "source": [
    "df_T.head()"
   ]
  },
  {
   "cell_type": "markdown",
   "metadata": {},
   "source": [
    "Dividimos en conjuntos de datos por año, para los últimos diez años"
   ]
  },
  {
   "cell_type": "code",
   "execution_count": 10,
   "metadata": {
    "ExecuteTime": {
     "end_time": "2020-02-19T23:04:23.814597Z",
     "start_time": "2020-02-19T23:04:23.807560Z"
    }
   },
   "outputs": [
    {
     "data": {
      "text/plain": [
       "(178, 5)"
      ]
     },
     "execution_count": 10,
     "metadata": {},
     "output_type": "execute_result"
    }
   ],
   "source": [
    "df_T_2010 = df_T[(pd.to_numeric(df_T['Year/Publication']) == 2010)].copy()\n",
    "df_T_2010.reset_index(inplace=True)\n",
    "df_T_2010.drop(['SizeImports','index'], axis=1, inplace=True)\n",
    "df_T_2010.shape"
   ]
  },
  {
   "cell_type": "code",
   "execution_count": 11,
   "metadata": {
    "ExecuteTime": {
     "end_time": "2020-02-19T23:04:24.006659Z",
     "start_time": "2020-02-19T23:04:23.992801Z"
    }
   },
   "outputs": [
    {
     "data": {
      "text/plain": [
       "(259, 5)"
      ]
     },
     "execution_count": 11,
     "metadata": {},
     "output_type": "execute_result"
    }
   ],
   "source": [
    "df_T_2011 = df_T[(pd.to_numeric(df_T['Year/Publication']) == 2011)].copy()\n",
    "df_T_2011.reset_index(inplace=True)\n",
    "df_T_2011.drop(['SizeImports','index'], axis=1, inplace=True)\n",
    "df_T_2011.shape"
   ]
  },
  {
   "cell_type": "code",
   "execution_count": 12,
   "metadata": {
    "ExecuteTime": {
     "end_time": "2020-02-19T23:04:24.156433Z",
     "start_time": "2020-02-19T23:04:24.138162Z"
    }
   },
   "outputs": [
    {
     "data": {
      "text/plain": [
       "(405, 5)"
      ]
     },
     "execution_count": 12,
     "metadata": {},
     "output_type": "execute_result"
    }
   ],
   "source": [
    "df_T_2012 = df_T[(pd.to_numeric(df_T['Year/Publication']) == 2012)].copy()\n",
    "df_T_2012.reset_index(inplace=True)\n",
    "df_T_2012.drop(['SizeImports','index'], axis=1, inplace=True)\n",
    "df_T_2012.shape"
   ]
  },
  {
   "cell_type": "code",
   "execution_count": 13,
   "metadata": {
    "ExecuteTime": {
     "end_time": "2020-02-19T23:04:24.910296Z",
     "start_time": "2020-02-19T23:04:24.890145Z"
    }
   },
   "outputs": [
    {
     "data": {
      "text/plain": [
       "(744, 5)"
      ]
     },
     "execution_count": 13,
     "metadata": {},
     "output_type": "execute_result"
    }
   ],
   "source": [
    "df_T_2013 = df_T[(pd.to_numeric(df_T['Year/Publication']) == 2013)].copy()\n",
    "df_T_2013.reset_index(inplace=True)\n",
    "df_T_2013.drop(['SizeImports','index'], axis=1, inplace=True)\n",
    "df_T_2013.shape"
   ]
  },
  {
   "cell_type": "code",
   "execution_count": 14,
   "metadata": {
    "ExecuteTime": {
     "end_time": "2020-02-19T23:04:28.718501Z",
     "start_time": "2020-02-19T23:04:28.690950Z"
    }
   },
   "outputs": [
    {
     "data": {
      "text/plain": [
       "(1476, 5)"
      ]
     },
     "execution_count": 14,
     "metadata": {},
     "output_type": "execute_result"
    }
   ],
   "source": [
    "df_T_2014 = df_T[(pd.to_numeric(df_T['Year/Publication']) == 2014)].copy()\n",
    "df_T_2014.reset_index(inplace=True)\n",
    "df_T_2014.drop(['SizeImports','index'], axis=1, inplace=True)\n",
    "df_T_2014.shape"
   ]
  },
  {
   "cell_type": "code",
   "execution_count": 25,
   "metadata": {
    "ExecuteTime": {
     "end_time": "2020-02-19T23:05:44.756257Z",
     "start_time": "2020-02-19T23:05:44.745765Z"
    }
   },
   "outputs": [
    {
     "data": {
      "text/plain": [
       "(2433, 5)"
      ]
     },
     "execution_count": 25,
     "metadata": {},
     "output_type": "execute_result"
    }
   ],
   "source": [
    "df_T_2015 = df_T[(pd.to_numeric(df_T['Year/Publication']) == 2015)].copy()\n",
    "df_T_2015.reset_index(inplace=True)\n",
    "df_T_2015.drop(['SizeImports','index'], axis=1, inplace=True)\n",
    "df_T_2015.shape"
   ]
  },
  {
   "cell_type": "code",
   "execution_count": 26,
   "metadata": {
    "ExecuteTime": {
     "end_time": "2020-02-19T23:05:45.636758Z",
     "start_time": "2020-02-19T23:05:45.612904Z"
    }
   },
   "outputs": [
    {
     "data": {
      "text/plain": [
       "(3319, 5)"
      ]
     },
     "execution_count": 26,
     "metadata": {},
     "output_type": "execute_result"
    }
   ],
   "source": [
    "df_T_2016 = df_T[(pd.to_numeric(df_T['Year/Publication']) == 2016)].copy()\n",
    "df_T_2016.reset_index(inplace=True)\n",
    "df_T_2016.drop(['SizeImports','index'], axis=1, inplace=True)\n",
    "df_T_2016.shape"
   ]
  },
  {
   "cell_type": "code",
   "execution_count": 27,
   "metadata": {
    "ExecuteTime": {
     "end_time": "2020-02-19T23:05:46.247166Z",
     "start_time": "2020-02-19T23:05:46.221531Z"
    }
   },
   "outputs": [
    {
     "data": {
      "text/plain": [
       "(4100, 5)"
      ]
     },
     "execution_count": 27,
     "metadata": {},
     "output_type": "execute_result"
    }
   ],
   "source": [
    "df_T_2017 = df_T[(pd.to_numeric(df_T['Year/Publication']) == 2017)].copy()\n",
    "df_T_2017.reset_index(inplace=True)\n",
    "df_T_2017.drop(['SizeImports','index'], axis=1, inplace=True)\n",
    "df_T_2017.shape"
   ]
  },
  {
   "cell_type": "code",
   "execution_count": 28,
   "metadata": {
    "ExecuteTime": {
     "end_time": "2020-02-19T23:05:48.396170Z",
     "start_time": "2020-02-19T23:05:48.389917Z"
    }
   },
   "outputs": [
    {
     "data": {
      "text/plain": [
       "(4946, 5)"
      ]
     },
     "execution_count": 28,
     "metadata": {},
     "output_type": "execute_result"
    }
   ],
   "source": [
    "df_T_2018 = df_T[(pd.to_numeric(df_T['Year/Publication']) == 2018)].copy()\n",
    "df_T_2018.reset_index(inplace=True)\n",
    "df_T_2018.drop(['SizeImports','index'], axis=1, inplace=True)\n",
    "df_T_2018.shape"
   ]
  },
  {
   "cell_type": "code",
   "execution_count": 29,
   "metadata": {
    "ExecuteTime": {
     "end_time": "2020-02-19T23:05:48.794237Z",
     "start_time": "2020-02-19T23:05:48.785661Z"
    }
   },
   "outputs": [
    {
     "data": {
      "text/plain": [
       "(5495, 5)"
      ]
     },
     "execution_count": 29,
     "metadata": {},
     "output_type": "execute_result"
    }
   ],
   "source": [
    "df_T_2019 = df_T[(pd.to_numeric(df_T['Year/Publication']) == 2019)].copy()\n",
    "df_T_2019.reset_index(inplace=True)\n",
    "df_T_2019.drop(['SizeImports','index'], axis=1, inplace=True)\n",
    "df_T_2019.shape"
   ]
  },
  {
   "cell_type": "code",
   "execution_count": 30,
   "metadata": {
    "ExecuteTime": {
     "end_time": "2020-02-19T23:05:50.552127Z",
     "start_time": "2020-02-19T23:05:50.540717Z"
    }
   },
   "outputs": [],
   "source": [
    "def split_dataframe_list(df, column):\n",
    "    ''' \n",
    "    Acepta una columna y divide las variables de la lista en varias filas.\n",
    "    df: dataframe para dividir\n",
    "    column: la columna que contiene los valores a dividir\n",
    "    '''\n",
    "    \n",
    "    row_accumulator = []\n",
    "    \n",
    "    def split_list_to_rows(row):\n",
    "        split_row = row[column]\n",
    "        if isinstance(split_row, list):\n",
    "            for s in split_row:\n",
    "                new_row = row.to_dict()\n",
    "                new_row[column] = s\n",
    "                row_accumulator.append(new_row)\n",
    "            if split_row == []:\n",
    "                new_row = row.to_dict()\n",
    "                new_row[column] = None\n",
    "                row_accumulator.append(new_row)\n",
    "        else:\n",
    "            new_row = row.to_dict()\n",
    "            new_row[column] = split_row\n",
    "            row_accumulator.append(new_row)\n",
    "            \n",
    "    df.apply(split_list_to_rows, axis=1)\n",
    "    new_df = pd.DataFrame(row_accumulator)\n",
    "    \n",
    "    return new_df\n",
    "\n",
    "def get_transitives_dependencies(df_anchor, df_ref, level):\n",
    "    \n",
    "    df_anchor = df_anchor.persist()\n",
    "        \n",
    "    if (level == 0): # El nivel 0 representa las dependencias directas del paquete\n",
    "        df_anchor['MainPackage'] = df_anchor['Package']\n",
    "        df_anchor['level'] = 0\n",
    "        df_anchor['Relationship'] = df_anchor['Package'] + '|' + df_anchor['Imports']\n",
    "        _df_anchor = df_anchor\n",
    "        \n",
    "    if (level > 0): # Dependencias transitivas\n",
    "        _df_anchor = df_anchor[df_anchor.level==level]#.persist()\n",
    "    \n",
    "    _df = dd.merge(_df_anchor, df_ref, left_on='Imports', right_on='Package', how='inner', suffixes=('', '_x'))\n",
    "    _df = _df.persist()\n",
    "    \n",
    "    if not(len(_df) == 0):\n",
    "        print(\"NIVEL \", level, \" SIZE \", len(_df))\n",
    "        \n",
    "        _df['Relationship'] =_df['Relationship'] + '|' + _df['Imports_x']\n",
    "        _df['level'] = _df['level'] + 1\n",
    "        _df = _df[['MainPackage', 'Package_x', 'Imports_x', 'level', 'Relationship']].rename(columns={'Package_x': 'Package', 'Imports_x': 'Imports'})#.persist()\n",
    "\n",
    "        _df = _df.repartition(npartitions=3)\n",
    "        _df = _df.reset_index(drop=True)\n",
    "        \n",
    "        df_anchor = df_anchor.repartition(npartitions=3)\n",
    "        df_anchor = df_anchor.reset_index(drop=True)\n",
    "\n",
    "        df_anchor_new = dd.concat([df_anchor, _df])\n",
    "        \n",
    "        ''''\n",
    "        df_save = df_anchor_new.compute()\n",
    "        df_save.to_csv(\"DF_ANCHOR_NEW.csv\", header=df_save.columns.tolist(), sep=\"|\", index=False)\n",
    "        del df_anchor_new # Elimina variable\n",
    "        \n",
    "        df_an = pd.read_csv(\"DF_ANCHOR_NEW.csv\", sep='|', low_memory=False)\n",
    "        df_anchor_new = dd.from_pandas(df_an, npartitions=3)\n",
    "        df_anchor_new = df_anchor_new.persist()\n",
    "        '''\n",
    "        return get_transitives_dependencies(df_anchor_new, df_ref, level+1)\n",
    "    else:\n",
    "        return df_anchor"
   ]
  },
  {
   "cell_type": "markdown",
   "metadata": {},
   "source": [
    "Para obtener las relaciones entre los paquetes y sus dependencias en dos columnas se utiliza la función *split_dataframe_list()*"
   ]
  },
  {
   "cell_type": "code",
   "execution_count": null,
   "metadata": {},
   "outputs": [],
   "source": []
  },
  {
   "cell_type": "code",
   "execution_count": 16,
   "metadata": {
    "ExecuteTime": {
     "end_time": "2020-02-19T23:05:13.321156Z",
     "start_time": "2020-02-19T23:05:13.288960Z"
    }
   },
   "outputs": [
    {
     "data": {
      "text/plain": [
       "(399, 5)"
      ]
     },
     "execution_count": 16,
     "metadata": {},
     "output_type": "execute_result"
    }
   ],
   "source": [
    "df_2010 = split_dataframe_list(df_T_2010, column='Imports')\n",
    "df_2010.shape"
   ]
  },
  {
   "cell_type": "code",
   "execution_count": 17,
   "metadata": {
    "ExecuteTime": {
     "end_time": "2020-02-19T23:05:13.824475Z",
     "start_time": "2020-02-19T23:05:13.780236Z"
    }
   },
   "outputs": [
    {
     "data": {
      "text/plain": [
       "(632, 5)"
      ]
     },
     "execution_count": 17,
     "metadata": {},
     "output_type": "execute_result"
    }
   ],
   "source": [
    "df_2011 = split_dataframe_list(df_T_2011, column='Imports')\n",
    "df_2011.shape"
   ]
  },
  {
   "cell_type": "code",
   "execution_count": 18,
   "metadata": {
    "ExecuteTime": {
     "end_time": "2020-02-19T23:05:14.053021Z",
     "start_time": "2020-02-19T23:05:14.006652Z"
    }
   },
   "outputs": [
    {
     "data": {
      "text/plain": [
       "(1140, 5)"
      ]
     },
     "execution_count": 18,
     "metadata": {},
     "output_type": "execute_result"
    }
   ],
   "source": [
    "df_2012 = split_dataframe_list(df_T_2012, column='Imports')\n",
    "df_2012.shape"
   ]
  },
  {
   "cell_type": "code",
   "execution_count": 19,
   "metadata": {
    "ExecuteTime": {
     "end_time": "2020-02-19T23:05:14.291241Z",
     "start_time": "2020-02-19T23:05:14.211589Z"
    }
   },
   "outputs": [
    {
     "data": {
      "text/plain": [
       "(2709, 5)"
      ]
     },
     "execution_count": 19,
     "metadata": {},
     "output_type": "execute_result"
    }
   ],
   "source": [
    "df_2013 = split_dataframe_list(df_T_2013, column='Imports')\n",
    "df_2013.shape"
   ]
  },
  {
   "cell_type": "code",
   "execution_count": 20,
   "metadata": {
    "ExecuteTime": {
     "end_time": "2020-02-19T23:05:16.404483Z",
     "start_time": "2020-02-19T23:05:16.269287Z"
    }
   },
   "outputs": [
    {
     "data": {
      "text/plain": [
       "(5417, 5)"
      ]
     },
     "execution_count": 20,
     "metadata": {},
     "output_type": "execute_result"
    }
   ],
   "source": [
    "df_2014 = split_dataframe_list(df_T_2014, column='Imports')\n",
    "df_2014.shape"
   ]
  },
  {
   "cell_type": "code",
   "execution_count": 31,
   "metadata": {
    "ExecuteTime": {
     "end_time": "2020-02-19T23:05:54.324795Z",
     "start_time": "2020-02-19T23:05:54.105609Z"
    }
   },
   "outputs": [
    {
     "data": {
      "text/plain": [
       "(10247, 5)"
      ]
     },
     "execution_count": 31,
     "metadata": {},
     "output_type": "execute_result"
    }
   ],
   "source": [
    "df_2015 = split_dataframe_list(df_T_2015, column='Imports')\n",
    "df_2015.shape"
   ]
  },
  {
   "cell_type": "code",
   "execution_count": 32,
   "metadata": {
    "ExecuteTime": {
     "end_time": "2020-02-19T23:05:55.201669Z",
     "start_time": "2020-02-19T23:05:54.884107Z"
    }
   },
   "outputs": [
    {
     "data": {
      "text/plain": [
       "(15884, 5)"
      ]
     },
     "execution_count": 32,
     "metadata": {},
     "output_type": "execute_result"
    }
   ],
   "source": [
    "df_2016 = split_dataframe_list(df_T_2016, column='Imports')\n",
    "df_2016.shape"
   ]
  },
  {
   "cell_type": "code",
   "execution_count": 33,
   "metadata": {
    "ExecuteTime": {
     "end_time": "2020-02-19T23:05:55.592334Z",
     "start_time": "2020-02-19T23:05:55.203221Z"
    }
   },
   "outputs": [
    {
     "data": {
      "text/plain": [
       "(22086, 5)"
      ]
     },
     "execution_count": 33,
     "metadata": {},
     "output_type": "execute_result"
    }
   ],
   "source": [
    "df_2017 = split_dataframe_list(df_T_2017, column='Imports')\n",
    "df_2017.shape"
   ]
  },
  {
   "cell_type": "code",
   "execution_count": 34,
   "metadata": {
    "ExecuteTime": {
     "end_time": "2020-02-19T23:05:56.228550Z",
     "start_time": "2020-02-19T23:05:55.708076Z"
    }
   },
   "outputs": [
    {
     "data": {
      "text/plain": [
       "(28711, 5)"
      ]
     },
     "execution_count": 34,
     "metadata": {},
     "output_type": "execute_result"
    }
   ],
   "source": [
    "df_2018 = split_dataframe_list(df_T_2018, column='Imports')\n",
    "df_2018.shape"
   ]
  },
  {
   "cell_type": "code",
   "execution_count": 35,
   "metadata": {
    "ExecuteTime": {
     "end_time": "2020-02-19T23:05:57.335235Z",
     "start_time": "2020-02-19T23:05:56.726270Z"
    }
   },
   "outputs": [
    {
     "data": {
      "text/plain": [
       "(33991, 5)"
      ]
     },
     "execution_count": 35,
     "metadata": {},
     "output_type": "execute_result"
    }
   ],
   "source": [
    "df_2019 = split_dataframe_list(df_T_2019, column='Imports')\n",
    "df_2019.shape"
   ]
  },
  {
   "cell_type": "markdown",
   "metadata": {},
   "source": [
    "Utilizamos la función *get_transitives_dependencies()* para obtener la relaciones transitivas entre los paquetes"
   ]
  },
  {
   "cell_type": "code",
   "execution_count": 36,
   "metadata": {
    "ExecuteTime": {
     "end_time": "2020-02-19T23:07:21.476870Z",
     "start_time": "2020-02-19T23:07:18.971260Z"
    }
   },
   "outputs": [
    {
     "name": "stdout",
     "output_type": "stream",
     "text": [
      "NIVEL  0  SIZE  258\n",
      "NIVEL  1  SIZE  92\n",
      "NIVEL  2  SIZE  37\n"
     ]
    },
    {
     "data": {
      "text/plain": [
       "(786, 8)"
      ]
     },
     "execution_count": 36,
     "metadata": {},
     "output_type": "execute_result"
    }
   ],
   "source": [
    "T_2010 = dd.from_pandas(df_2010, npartitions=3)\n",
    "x_2010 = client.scatter(T_2010)\n",
    "res_2010 = client.submit(get_transitives_dependencies, x_2010, x_2010, 0)\n",
    "df_rel_2010 = res_2010.result().compute() # Transformamos a dataframe pandas\n",
    "df_rel_2010.update(df_rel_2010.groupby('MainPackage')[['Year/Publication','Year_Month/Publication']].ffill())\n",
    "df_rel_2010.shape"
   ]
  },
  {
   "cell_type": "code",
   "execution_count": 37,
   "metadata": {
    "ExecuteTime": {
     "end_time": "2020-02-19T23:08:54.699936Z",
     "start_time": "2020-02-19T23:08:52.565212Z"
    }
   },
   "outputs": [
    {
     "name": "stdout",
     "output_type": "stream",
     "text": [
      "NIVEL  0  SIZE  413\n",
      "NIVEL  1  SIZE  189\n",
      "NIVEL  2  SIZE  97\n",
      "NIVEL  3  SIZE  6\n"
     ]
    },
    {
     "data": {
      "text/plain": [
       "(1337, 8)"
      ]
     },
     "execution_count": 37,
     "metadata": {},
     "output_type": "execute_result"
    }
   ],
   "source": [
    "T_2011 = dd.from_pandas(df_2011, npartitions=3)\n",
    "x_2011 = client.scatter(T_2011)\n",
    "res_2011 = client.submit(get_transitives_dependencies, x_2011, x_2011, 0)\n",
    "df_rel_2011 = res_2011.result().compute() # Transformamos a dataframe pandas\n",
    "df_rel_2011.update(df_rel_2011.groupby('MainPackage')[['Year/Publication','Year_Month/Publication']].ffill())\n",
    "df_rel_2011.shape"
   ]
  },
  {
   "cell_type": "code",
   "execution_count": 38,
   "metadata": {
    "ExecuteTime": {
     "end_time": "2020-02-19T23:08:57.395007Z",
     "start_time": "2020-02-19T23:08:54.701314Z"
    }
   },
   "outputs": [
    {
     "name": "stdout",
     "output_type": "stream",
     "text": [
      "NIVEL  0  SIZE  840\n",
      "NIVEL  1  SIZE  512\n",
      "NIVEL  2  SIZE  223\n",
      "NIVEL  3  SIZE  12\n"
     ]
    },
    {
     "data": {
      "text/plain": [
       "(2727, 8)"
      ]
     },
     "execution_count": 38,
     "metadata": {},
     "output_type": "execute_result"
    }
   ],
   "source": [
    "T_2012 = dd.from_pandas(df_2012, npartitions=3)\n",
    "x_2012 = client.scatter(T_2012)\n",
    "res_2012 = client.submit(get_transitives_dependencies, x_2012, x_2012, 0)\n",
    "df_rel_2012 = res_2012.result().compute() # Transformamos a dataframe pandas\n",
    "df_rel_2012.update(df_rel_2012.groupby('MainPackage')[['Year/Publication','Year_Month/Publication']].ffill())\n",
    "df_rel_2012.shape"
   ]
  },
  {
   "cell_type": "code",
   "execution_count": 39,
   "metadata": {
    "ExecuteTime": {
     "end_time": "2020-02-19T23:09:00.498460Z",
     "start_time": "2020-02-19T23:08:57.396445Z"
    }
   },
   "outputs": [
    {
     "name": "stdout",
     "output_type": "stream",
     "text": [
      "NIVEL  0  SIZE  2439\n",
      "NIVEL  1  SIZE  1556\n",
      "NIVEL  2  SIZE  943\n",
      "NIVEL  3  SIZE  346\n",
      "NIVEL  4  SIZE  85\n",
      "NIVEL  5  SIZE  10\n"
     ]
    },
    {
     "data": {
      "text/plain": [
       "(8088, 8)"
      ]
     },
     "execution_count": 39,
     "metadata": {},
     "output_type": "execute_result"
    }
   ],
   "source": [
    "T_2013 = dd.from_pandas(df_2013, npartitions=3)\n",
    "x_2013 = client.scatter(T_2013)\n",
    "res_2013 = client.submit(get_transitives_dependencies, x_2013, x_2013, 0)\n",
    "df_rel_2013 = res_2013.result().compute() # Transformamos a dataframe pandas\n",
    "df_rel_2013.update(df_rel_2013.groupby('MainPackage')[['Year/Publication','Year_Month/Publication']].ffill())\n",
    "df_rel_2013.shape"
   ]
  },
  {
   "cell_type": "code",
   "execution_count": 40,
   "metadata": {
    "ExecuteTime": {
     "end_time": "2020-02-19T23:09:04.962146Z",
     "start_time": "2020-02-19T23:09:00.499613Z"
    },
    "scrolled": false
   },
   "outputs": [
    {
     "name": "stdout",
     "output_type": "stream",
     "text": [
      "NIVEL  0  SIZE  7268\n",
      "NIVEL  1  SIZE  5938\n",
      "NIVEL  2  SIZE  3206\n",
      "NIVEL  3  SIZE  1359\n",
      "NIVEL  4  SIZE  405\n",
      "NIVEL  5  SIZE  109\n",
      "NIVEL  6  SIZE  26\n",
      "NIVEL  7  SIZE  2\n"
     ]
    },
    {
     "data": {
      "text/plain": [
       "(23730, 8)"
      ]
     },
     "execution_count": 40,
     "metadata": {},
     "output_type": "execute_result"
    }
   ],
   "source": [
    "#res_2014 = get_transitives_dependencies(T_2014, T_2014, 0)\n",
    "T_2014 = dd.from_pandas(df_2014, npartitions=3)\n",
    "x_2014 = client.scatter(T_2014)\n",
    "res_2014 = client.submit(get_transitives_dependencies, x_2014, x_2014, 0)\n",
    "df_rel_2014 = res_2014.result().compute() # Transformamos a dataframe pandas\n",
    "df_rel_2014.update(df_rel_2014.groupby('MainPackage')[['Year/Publication','Year_Month/Publication']].ffill())\n",
    "df_rel_2014.shape"
   ]
  },
  {
   "cell_type": "code",
   "execution_count": 23,
   "metadata": {
    "ExecuteTime": {
     "end_time": "2020-01-29T13:57:38.190105Z",
     "start_time": "2020-01-29T13:57:38.160566Z"
    }
   },
   "outputs": [
    {
     "data": {
      "text/plain": [
       "(23730, 8)"
      ]
     },
     "execution_count": 23,
     "metadata": {},
     "output_type": "execute_result"
    }
   ],
   "source": []
  },
  {
   "cell_type": "code",
   "execution_count": null,
   "metadata": {},
   "outputs": [],
   "source": []
  },
  {
   "cell_type": "code",
   "execution_count": null,
   "metadata": {},
   "outputs": [],
   "source": []
  },
  {
   "cell_type": "code",
   "execution_count": 41,
   "metadata": {
    "ExecuteTime": {
     "end_time": "2020-02-19T23:09:08.023700Z",
     "start_time": "2020-02-19T23:09:08.007585Z"
    }
   },
   "outputs": [
    {
     "name": "stdout",
     "output_type": "stream",
     "text": [
      "NIVEL  0  SIZE  17746\n"
     ]
    }
   ],
   "source": [
    "T_2015 = dd.from_pandas(df_2015, npartitions=3)\n",
    "x_2015 = client.scatter(T_2015)\n",
    "res_2015 = client.submit(get_transitives_dependencies, x_2015, x_2015, 0)"
   ]
  },
  {
   "cell_type": "code",
   "execution_count": 42,
   "metadata": {
    "ExecuteTime": {
     "end_time": "2020-02-19T23:09:13.135225Z",
     "start_time": "2020-02-19T23:09:08.712243Z"
    }
   },
   "outputs": [
    {
     "name": "stdout",
     "output_type": "stream",
     "text": [
      "NIVEL  1  SIZE  16768\n",
      "NIVEL  2  SIZE  10982\n",
      "NIVEL  3  SIZE  6018\n",
      "NIVEL  4  SIZE  2442\n",
      "NIVEL  5  SIZE  867\n",
      "NIVEL  6  SIZE  204\n",
      "NIVEL  7  SIZE  42\n",
      "NIVEL  8  SIZE  2\n"
     ]
    },
    {
     "data": {
      "text/plain": [
       "(65318, 8)"
      ]
     },
     "execution_count": 42,
     "metadata": {},
     "output_type": "execute_result"
    }
   ],
   "source": [
    "df_rel_2015 = res_2015.result().compute() # Transformamos a dataframe pandas\n",
    "df_rel_2015.update(df_rel_2015.groupby('MainPackage')[['Year/Publication','Year_Month/Publication']].ffill())\n",
    "df_rel_2015.shape"
   ]
  },
  {
   "cell_type": "code",
   "execution_count": null,
   "metadata": {},
   "outputs": [],
   "source": []
  },
  {
   "cell_type": "code",
   "execution_count": null,
   "metadata": {},
   "outputs": [],
   "source": []
  },
  {
   "cell_type": "code",
   "execution_count": 43,
   "metadata": {
    "ExecuteTime": {
     "end_time": "2020-02-19T23:09:13.152097Z",
     "start_time": "2020-02-19T23:09:13.136695Z"
    }
   },
   "outputs": [],
   "source": [
    "T_2016 = dd.from_pandas(df_2016, npartitions=3)\n",
    "x_2016 = client.scatter(T_2016)\n",
    "res_2016 = client.submit(get_transitives_dependencies, x_2016, x_2016, 0)"
   ]
  },
  {
   "cell_type": "code",
   "execution_count": 44,
   "metadata": {
    "ExecuteTime": {
     "end_time": "2020-02-19T23:09:18.163868Z",
     "start_time": "2020-02-19T23:09:13.190552Z"
    }
   },
   "outputs": [
    {
     "name": "stdout",
     "output_type": "stream",
     "text": [
      "NIVEL  0  SIZE  32802\n",
      "NIVEL  1  SIZE  40176\n",
      "NIVEL  2  SIZE  30788\n",
      "NIVEL  3  SIZE  17826\n",
      "NIVEL  4  SIZE  6536\n",
      "NIVEL  5  SIZE  2238\n",
      "NIVEL  6  SIZE  540\n",
      "NIVEL  7  SIZE  68\n"
     ]
    },
    {
     "data": {
      "text/plain": [
       "(146858, 8)"
      ]
     },
     "execution_count": 44,
     "metadata": {},
     "output_type": "execute_result"
    }
   ],
   "source": [
    "df_rel_2016 = res_2016.result().compute() # Transformamos a dataframe pandas\n",
    "df_rel_2016.update(df_rel_2016.groupby('MainPackage')[['Year/Publication','Year_Month/Publication']].ffill())\n",
    "df_rel_2016.shape"
   ]
  },
  {
   "cell_type": "code",
   "execution_count": null,
   "metadata": {},
   "outputs": [],
   "source": []
  },
  {
   "cell_type": "code",
   "execution_count": null,
   "metadata": {},
   "outputs": [],
   "source": []
  },
  {
   "cell_type": "code",
   "execution_count": 45,
   "metadata": {
    "ExecuteTime": {
     "end_time": "2020-02-19T23:09:18.173179Z",
     "start_time": "2020-02-19T23:09:18.165313Z"
    }
   },
   "outputs": [],
   "source": [
    "T_2017 = dd.from_pandas(df_2017, npartitions=3)\n",
    "x_2017 = client.scatter(T_2017)\n",
    "res_2017 = client.submit(get_transitives_dependencies, x_2017, x_2017, 0)"
   ]
  },
  {
   "cell_type": "code",
   "execution_count": 46,
   "metadata": {
    "ExecuteTime": {
     "end_time": "2020-02-19T23:09:28.492104Z",
     "start_time": "2020-02-19T23:09:18.206319Z"
    }
   },
   "outputs": [
    {
     "name": "stdout",
     "output_type": "stream",
     "text": [
      "NIVEL  0  SIZE  49319\n",
      "NIVEL  1  SIZE  62207\n",
      "NIVEL  2  SIZE  58327\n",
      "NIVEL  3  SIZE  44941\n",
      "NIVEL  4  SIZE  31627\n",
      "NIVEL  5  SIZE  18828\n",
      "NIVEL  6  SIZE  9507\n",
      "NIVEL  7  SIZE  3972\n",
      "NIVEL  8  SIZE  1262\n",
      "NIVEL  9  SIZE  324\n",
      "NIVEL  10  SIZE  54\n",
      "NIVEL  11  SIZE  4\n"
     ]
    },
    {
     "data": {
      "text/plain": [
       "(302458, 8)"
      ]
     },
     "execution_count": 46,
     "metadata": {},
     "output_type": "execute_result"
    }
   ],
   "source": [
    "df_rel_2017 = res_2017.result().compute() # Transformamos a dataframe pandas\n",
    "df_rel_2017.update(df_rel_2017.groupby('MainPackage')[['Year/Publication','Year_Month/Publication']].ffill())\n",
    "df_rel_2017.shape"
   ]
  },
  {
   "cell_type": "code",
   "execution_count": null,
   "metadata": {},
   "outputs": [],
   "source": []
  },
  {
   "cell_type": "code",
   "execution_count": null,
   "metadata": {},
   "outputs": [],
   "source": []
  },
  {
   "cell_type": "code",
   "execution_count": 47,
   "metadata": {
    "ExecuteTime": {
     "end_time": "2020-02-19T23:09:28.509859Z",
     "start_time": "2020-02-19T23:09:28.493453Z"
    }
   },
   "outputs": [],
   "source": [
    "T_2018 = dd.from_pandas(df_2018, npartitions=3)\n",
    "x_2018 = client.scatter(T_2018) \n",
    "res_2018 = client.submit(get_transitives_dependencies, x_2018, x_2018, 0)"
   ]
  },
  {
   "cell_type": "code",
   "execution_count": 48,
   "metadata": {
    "ExecuteTime": {
     "end_time": "2020-02-19T23:09:42.083781Z",
     "start_time": "2020-02-19T23:09:28.531238Z"
    }
   },
   "outputs": [
    {
     "name": "stdout",
     "output_type": "stream",
     "text": [
      "NIVEL  0  SIZE  82624\n",
      "NIVEL  1  SIZE  126129\n",
      "NIVEL  2  SIZE  138952\n",
      "NIVEL  3  SIZE  112184\n",
      "NIVEL  4  SIZE  75864\n",
      "NIVEL  5  SIZE  45470\n",
      "NIVEL  6  SIZE  21336\n",
      "NIVEL  7  SIZE  8086\n",
      "NIVEL  8  SIZE  2509\n",
      "NIVEL  9  SIZE  688\n",
      "NIVEL  10  SIZE  158\n",
      "NIVEL  11  SIZE  20\n"
     ]
    },
    {
     "data": {
      "text/plain": [
       "(642731, 8)"
      ]
     },
     "execution_count": 48,
     "metadata": {},
     "output_type": "execute_result"
    }
   ],
   "source": [
    "df_rel_2018 = res_2018.result().compute() # Transformamos a dataframe pandas\n",
    "df_rel_2018.update(df_rel_2018.groupby('MainPackage')[['Year/Publication','Year_Month/Publication']].ffill())\n",
    "df_rel_2018.shape"
   ]
  },
  {
   "cell_type": "code",
   "execution_count": null,
   "metadata": {},
   "outputs": [],
   "source": []
  },
  {
   "cell_type": "code",
   "execution_count": null,
   "metadata": {},
   "outputs": [],
   "source": []
  },
  {
   "cell_type": "code",
   "execution_count": 49,
   "metadata": {
    "ExecuteTime": {
     "end_time": "2020-02-19T23:09:42.102297Z",
     "start_time": "2020-02-19T23:09:42.085539Z"
    }
   },
   "outputs": [],
   "source": [
    "T_2019 = dd.from_pandas(df_2019, npartitions=3)\n",
    "x_2019 = client.scatter(T_2019)\n",
    "res_2019 = client.submit(get_transitives_dependencies, x_2019, x_2019, 0)"
   ]
  },
  {
   "cell_type": "code",
   "execution_count": 50,
   "metadata": {
    "ExecuteTime": {
     "end_time": "2020-02-19T23:09:56.625177Z",
     "start_time": "2020-02-19T23:09:42.140616Z"
    }
   },
   "outputs": [
    {
     "name": "stdout",
     "output_type": "stream",
     "text": [
      "NIVEL  0  SIZE  105263\n",
      "NIVEL  1  SIZE  161404\n",
      "NIVEL  2  SIZE  164335\n",
      "NIVEL  3  SIZE  140208\n",
      "NIVEL  4  SIZE  93228\n",
      "NIVEL  5  SIZE  46515\n",
      "NIVEL  6  SIZE  19491\n",
      "NIVEL  7  SIZE  6420\n",
      "NIVEL  8  SIZE  1639\n",
      "NIVEL  9  SIZE  316\n",
      "NIVEL  10  SIZE  30\n"
     ]
    },
    {
     "data": {
      "text/plain": [
       "(772840, 8)"
      ]
     },
     "execution_count": 50,
     "metadata": {},
     "output_type": "execute_result"
    }
   ],
   "source": [
    "df_rel_2019 = res_2019.result().compute() # Transformamos a dataframe pandas\n",
    "df_rel_2019.update(df_rel_2019.groupby('MainPackage')[['Year/Publication','Year_Month/Publication']].ffill())\n",
    "df_rel_2019.shape"
   ]
  },
  {
   "cell_type": "code",
   "execution_count": null,
   "metadata": {},
   "outputs": [],
   "source": []
  },
  {
   "cell_type": "markdown",
   "metadata": {},
   "source": [
    "Guarda en fichero"
   ]
  },
  {
   "cell_type": "code",
   "execution_count": 51,
   "metadata": {
    "ExecuteTime": {
     "end_time": "2020-02-19T23:10:00.215695Z",
     "start_time": "2020-02-19T23:09:59.135218Z"
    }
   },
   "outputs": [
    {
     "data": {
      "text/plain": [
       "(1966873, 8)"
      ]
     },
     "execution_count": 51,
     "metadata": {},
     "output_type": "execute_result"
    }
   ],
   "source": [
    "df_GT = pd.concat([df_rel_2010,df_rel_2011,df_rel_2012,df_rel_2013,df_rel_2014, df_rel_2015, df_rel_2016, df_rel_2017, df_rel_2018, df_rel_2019]).copy()\n",
    "df_GT.shape"
   ]
  },
  {
   "cell_type": "code",
   "execution_count": 52,
   "metadata": {
    "ExecuteTime": {
     "end_time": "2020-02-19T23:10:00.224956Z",
     "start_time": "2020-02-19T23:10:00.217157Z"
    }
   },
   "outputs": [
    {
     "data": {
      "text/html": [
       "<div>\n",
       "<style scoped>\n",
       "    .dataframe tbody tr th:only-of-type {\n",
       "        vertical-align: middle;\n",
       "    }\n",
       "\n",
       "    .dataframe tbody tr th {\n",
       "        vertical-align: top;\n",
       "    }\n",
       "\n",
       "    .dataframe thead th {\n",
       "        text-align: right;\n",
       "    }\n",
       "</style>\n",
       "<table border=\"1\" class=\"dataframe\">\n",
       "  <thead>\n",
       "    <tr style=\"text-align: right;\">\n",
       "      <th></th>\n",
       "      <th>Imports</th>\n",
       "      <th>MainPackage</th>\n",
       "      <th>Package</th>\n",
       "      <th>Relationship</th>\n",
       "      <th>Version</th>\n",
       "      <th>Year/Publication</th>\n",
       "      <th>Year_Month/Publication</th>\n",
       "      <th>level</th>\n",
       "    </tr>\n",
       "  </thead>\n",
       "  <tbody>\n",
       "    <tr>\n",
       "      <th>0</th>\n",
       "      <td>stats</td>\n",
       "      <td>AER</td>\n",
       "      <td>AER</td>\n",
       "      <td>AER|stats</td>\n",
       "      <td>1.1-7</td>\n",
       "      <td>2010.0</td>\n",
       "      <td>2010-10</td>\n",
       "      <td>0</td>\n",
       "    </tr>\n",
       "    <tr>\n",
       "      <th>1</th>\n",
       "      <td>survival</td>\n",
       "      <td>AIM</td>\n",
       "      <td>AIM</td>\n",
       "      <td>AIM|survival</td>\n",
       "      <td>1.01</td>\n",
       "      <td>2010.0</td>\n",
       "      <td>2010-04</td>\n",
       "      <td>0</td>\n",
       "    </tr>\n",
       "    <tr>\n",
       "      <th>2</th>\n",
       "      <td>stats</td>\n",
       "      <td>BAS</td>\n",
       "      <td>BAS</td>\n",
       "      <td>BAS|stats</td>\n",
       "      <td>0.92</td>\n",
       "      <td>2010.0</td>\n",
       "      <td>2010-10</td>\n",
       "      <td>0</td>\n",
       "    </tr>\n",
       "    <tr>\n",
       "      <th>3</th>\n",
       "      <td>colorspace</td>\n",
       "      <td>BiplotGUI</td>\n",
       "      <td>BiplotGUI</td>\n",
       "      <td>BiplotGUI|colorspace</td>\n",
       "      <td>0.0-6</td>\n",
       "      <td>2010.0</td>\n",
       "      <td>2010-02</td>\n",
       "      <td>0</td>\n",
       "    </tr>\n",
       "    <tr>\n",
       "      <th>4</th>\n",
       "      <td>KernSmooth</td>\n",
       "      <td>BiplotGUI</td>\n",
       "      <td>BiplotGUI</td>\n",
       "      <td>BiplotGUI|KernSmooth</td>\n",
       "      <td>0.0-6</td>\n",
       "      <td>2010.0</td>\n",
       "      <td>2010-02</td>\n",
       "      <td>0</td>\n",
       "    </tr>\n",
       "  </tbody>\n",
       "</table>\n",
       "</div>"
      ],
      "text/plain": [
       "      Imports MainPackage    Package          Relationship Version  \\\n",
       "0       stats         AER        AER             AER|stats   1.1-7   \n",
       "1    survival         AIM        AIM          AIM|survival    1.01   \n",
       "2       stats         BAS        BAS             BAS|stats    0.92   \n",
       "3  colorspace   BiplotGUI  BiplotGUI  BiplotGUI|colorspace   0.0-6   \n",
       "4  KernSmooth   BiplotGUI  BiplotGUI  BiplotGUI|KernSmooth   0.0-6   \n",
       "\n",
       "   Year/Publication Year_Month/Publication  level  \n",
       "0            2010.0                2010-10      0  \n",
       "1            2010.0                2010-04      0  \n",
       "2            2010.0                2010-10      0  \n",
       "3            2010.0                2010-02      0  \n",
       "4            2010.0                2010-02      0  "
      ]
     },
     "execution_count": 52,
     "metadata": {},
     "output_type": "execute_result"
    }
   ],
   "source": [
    "df_GT.head()"
   ]
  },
  {
   "cell_type": "code",
   "execution_count": null,
   "metadata": {},
   "outputs": [],
   "source": []
  },
  {
   "cell_type": "code",
   "execution_count": 53,
   "metadata": {
    "ExecuteTime": {
     "end_time": "2020-02-19T23:10:10.271428Z",
     "start_time": "2020-02-19T23:10:04.171201Z"
    }
   },
   "outputs": [],
   "source": [
    "colnames = df_GT.columns.tolist()\n",
    "df_GT.to_csv(\"DATA_CRAN/CRAN_TRANSITIVE_RELATIONSHIPS_(2010-2019).csv\", header=colnames, sep=\";\", index=False)"
   ]
  },
  {
   "cell_type": "code",
   "execution_count": null,
   "metadata": {},
   "outputs": [],
   "source": []
  },
  {
   "cell_type": "code",
   "execution_count": null,
   "metadata": {},
   "outputs": [],
   "source": []
  }
 ],
 "metadata": {
  "kernelspec": {
   "display_name": "Python 3",
   "language": "python",
   "name": "python3"
  },
  "language_info": {
   "codemirror_mode": {
    "name": "ipython",
    "version": 3
   },
   "file_extension": ".py",
   "mimetype": "text/x-python",
   "name": "python",
   "nbconvert_exporter": "python",
   "pygments_lexer": "ipython3",
   "version": "3.7.2"
  }
 },
 "nbformat": 4,
 "nbformat_minor": 2
}
